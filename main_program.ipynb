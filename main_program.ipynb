{
 "cells": [
  {
   "cell_type": "markdown",
   "metadata": {},
   "source": [
    "# Imports"
   ]
  },
  {
   "cell_type": "code",
   "execution_count": 57,
   "metadata": {},
   "outputs": [],
   "source": [
    "import pandas as pd\n",
    "import seaborn as sns\n",
    "from statsmodels.stats.outliers_influence import variance_inflation_factor\n",
    "from sklearn.linear_model import LogisticRegression\n",
    "from sklearn.ensemble import RandomForestClassifier\n",
    "from helper_functions import *"
   ]
  },
  {
   "cell_type": "markdown",
   "metadata": {},
   "source": [
    "# (1) Load Data"
   ]
  },
  {
   "cell_type": "code",
   "execution_count": 92,
   "metadata": {},
   "outputs": [
    {
     "name": "stdout",
     "output_type": "stream",
     "text": [
      "32\n"
     ]
    },
    {
     "data": {
      "text/plain": [
       "['home_possession',\n",
       " 'away_possession',\n",
       " 'home_pass_acc',\n",
       " 'away_pass_acc',\n",
       " 'home_sot',\n",
       " 'away_sot',\n",
       " 'home_saves',\n",
       " 'away_saves',\n",
       " 'home_fouls',\n",
       " 'away_fouls',\n",
       " 'home_corners',\n",
       " 'away_corners',\n",
       " 'home_crosses',\n",
       " 'away_crosses',\n",
       " 'home_touches',\n",
       " 'away_touches',\n",
       " 'home_tackles',\n",
       " 'away_tackles',\n",
       " 'home_ints',\n",
       " 'away_ints',\n",
       " 'home_aerials',\n",
       " 'away_aerials',\n",
       " 'home_clearances',\n",
       " 'away_clearances',\n",
       " 'home_offsides',\n",
       " 'away_offsides',\n",
       " 'home_goal_kicks',\n",
       " 'away_goal_kicks',\n",
       " 'home_throwins',\n",
       " 'away_throwins',\n",
       " 'home_longballs',\n",
       " 'away_longballs']"
      ]
     },
     "execution_count": 92,
     "metadata": {},
     "output_type": "execute_result"
    }
   ],
   "source": [
    "# Load in full Data CSV\n",
    "filename = './matchup_data_all.csv'\n",
    "df = pd.read_csv(filename)\n",
    "\n",
    "# Use helper function to create new win column that describes if home_team won, loss or draw\n",
    "# This will be our target column\n",
    "df['target'] = df[['home_score', 'away_score']].apply(add_win_column, axis = 1)\n",
    "df.sort_values('date_value', inplace = True, ascending=False)\n",
    "df = df.drop(columns = ['url', 'date', 'home_record', 'away_record'])\n",
    "df.head()\n",
    "\n",
    "\n",
    "# Make dataframe that is just the features inorder for feature variance analysis\n",
    "df_feat = df.drop(columns = ['target', 'date_value', 'home_team', 'away_team', 'home_score', 'away_score', 'week'])\n",
    "print(len(df_feat.columns))\n",
    "list(df_feat)\n",
    "\n"
   ]
  },
  {
   "cell_type": "markdown",
   "metadata": {},
   "source": [
    "# Feature Variance Analysis"
   ]
  },
  {
   "cell_type": "code",
   "execution_count": 93,
   "metadata": {},
   "outputs": [
    {
     "data": {
      "text/plain": [
       "[('home_possession', 680.701498080627),\n",
       " ('away_possession', 600.6859549597091),\n",
       " ('home_pass_acc', 996.1016985703549),\n",
       " ('away_pass_acc', 888.3849048955051),\n",
       " ('home_sot', 7.270767218536324),\n",
       " ('away_sot', 6.172409065556261),\n",
       " ('home_saves', 6.287660708873908),\n",
       " ('away_saves', 7.090955484260247),\n",
       " ('home_fouls', 13.111950083367153),\n",
       " ('away_fouls', 12.455623805545246),\n",
       " ('home_corners', 8.729434785612003),\n",
       " ('away_corners', 7.439265382377548),\n",
       " ('home_crosses', 16.31750629097872),\n",
       " ('away_crosses', 13.822444975990956),\n",
       " ('home_touches', 550.9832120077979),\n",
       " ('away_touches', 542.4138177235843),\n",
       " ('home_tackles', 15.097304097777911),\n",
       " ('away_tackles', 14.525367070179678),\n",
       " ('home_ints', 8.091690249647515),\n",
       " ('away_ints', 8.415804689950393),\n",
       " ('home_aerials', 10.666689852224783),\n",
       " ('away_aerials', 10.51729974145111),\n",
       " ('home_clearances', 12.55513971486953),\n",
       " ('away_clearances', 15.420994119467558),\n",
       " ('home_offsides', 2.7662337903569836),\n",
       " ('away_offsides', 2.5140735757033563),\n",
       " ('home_goal_kicks', 8.554976328247687),\n",
       " ('away_goal_kicks', 9.332318159754132),\n",
       " ('home_throwins', 20.280993344353465),\n",
       " ('away_throwins', 18.424233236381774),\n",
       " ('home_longballs', 38.40513118573647),\n",
       " ('away_longballs', 42.16143791964047)]"
      ]
     },
     "execution_count": 93,
     "metadata": {},
     "output_type": "execute_result"
    }
   ],
   "source": [
    "vifs = []\n",
    "for i, feature in enumerate(list(df_feat)):\n",
    "    vif_tup = (feature, variance_inflation_factor(df_feat.values, i))\n",
    "    vifs.append( vif_tup )\n",
    "vifs\n"
   ]
  },
  {
   "cell_type": "markdown",
   "metadata": {},
   "source": [
    "# Model Training and Testing on Already Played Games"
   ]
  },
  {
   "cell_type": "code",
   "execution_count": 94,
   "metadata": {},
   "outputs": [
    {
     "name": "stdout",
     "output_type": "stream",
     "text": [
      "<class 'numpy.ndarray'>\n"
     ]
    }
   ],
   "source": [
    "clfs = [LogisticRegression(), RandomForestClassifier()]\n",
    "X = df_feat.values\n",
    "\n",
    "y = df['target'].values\n",
    "\n",
    "X_train, X_test, y_train, y_test = train_test_split(X, y, test_size = .2, random_state = 42)\n",
    "print(type(X_test))"
   ]
  },
  {
   "cell_type": "code",
   "execution_count": 53,
   "metadata": {},
   "outputs": [
    {
     "name": "stdout",
     "output_type": "stream",
     "text": [
      "[[65 35 83 ... 26 59 79]\n",
      " [55 45 82 ... 15 46 74]\n",
      " [48 52 78 ... 27 61 70]\n",
      " ...\n",
      " [29 71 55 ... 20 79 46]\n",
      " [58 42 76 ... 34 70 61]\n",
      " [70 30 87 ... 10 61 83]]\n",
      "<class 'sklearn.linear_model.logistic.LogisticRegression'>\n",
      "score =  0.75 \n",
      "\n",
      "<class 'sklearn.ensemble.forest.RandomForestClassifier'>\n",
      "score =  0.7149122807017544 \n",
      "\n"
     ]
    },
    {
     "name": "stderr",
     "output_type": "stream",
     "text": [
      "C:\\Users\\elija\\Anaconda3\\lib\\site-packages\\sklearn\\linear_model\\logistic.py:432: FutureWarning: Default solver will be changed to 'lbfgs' in 0.22. Specify a solver to silence this warning.\n",
      "  FutureWarning)\n",
      "C:\\Users\\elija\\Anaconda3\\lib\\site-packages\\sklearn\\linear_model\\logistic.py:469: FutureWarning: Default multi_class will be changed to 'auto' in 0.22. Specify the multi_class option to silence this warning.\n",
      "  \"this warning.\", FutureWarning)\n",
      "C:\\Users\\elija\\Anaconda3\\lib\\site-packages\\sklearn\\ensemble\\forest.py:245: FutureWarning: The default value of n_estimators will change from 10 in version 0.20 to 100 in 0.22.\n",
      "  \"10 in version 0.20 to 100 in 0.22.\", FutureWarning)\n"
     ]
    }
   ],
   "source": [
    "print(X_test)\n",
    "for clf in clfs:\n",
    "    clf.fit(X_train, y_train)\n",
    "    print(type(clf))\n",
    "    print(\"score = \", clf.score(X_test, y_test), \"\\n\")"
   ]
  },
  {
   "cell_type": "markdown",
   "metadata": {},
   "source": [
    "# Modelling on Games Yet to be Played (ie without stats)"
   ]
  },
  {
   "cell_type": "code",
   "execution_count": 77,
   "metadata": {},
   "outputs": [],
   "source": [
    "def create_game(df, home, away, date_val, window):\n",
    "    # Return a df of averaged stats from previous 5 games that represents a predicted game\n",
    "\n",
    "    new_game = {'date_value': date_val, 'home_team': home, 'away_team': away, 'home_possession': 0, 'away_possession': 0, 'home_pass_acc': 0, 'away_pass_acc': 0, 'home_sot': 0, 'away_sot': 0, 'home_saves': 0,\n",
    "                 'away_saves': 0, 'home_fouls': 0, 'away_fouls': 0, 'home_corners': 0, 'away_corners': 0, 'home_crosses': 0, 'away_crosses': 0, 'home_touches': 0, 'away_touches': 0, 'home_tackles': 0,\n",
    "                  'away_tackles': 0, 'home_ints': 0, 'away_ints': 0, 'home_aerials': 0, 'away_aerials': 0, 'home_clearances': 0, 'away_clearances': 0, 'home_offsides': 0, 'away_offsides': 0, 'home_goal_kicks': 0, 'away_goal_kicks': 0,\n",
    "                  'home_throwins': 0, 'away_throwins': 0, 'home_longballs': 0, 'away_longballs': 0,}\n",
    "\n",
    "    # url\tdate\tweek\thome_team\taway_team\thome_record\taway_record\thome_score\taway_score\thome_score_xg\taway_score_xg\thome_possession\taway_possession\thome_pass_acc\taway_pass_acc\thome_sot\taway_sot\thome_saves\taway_saves\thome_fouls\taway_fouls\thome_corners\taway_corners\thome_crosses\taway_crosses\thome_touches\taway_touches\thome_tackles\taway_tackles\thome_ints\taway_ints\thome_aerials\taway_aerials\thome_clearances\taway_clearances\thome_offsides\taway_offsides\thome_goal_kicks\taway_goal_kicks\thome_throwins\taway_throwins\thome_longballs\taway_longballs\tdate_timestamp\n",
    "    #\n",
    "    # Extract and sum up previous 5 games from Home team\n",
    "    num_found = 0\n",
    "    for index, data in df.iterrows():\n",
    "        if int(data['date_value']) >= int(date_val): continue  # Skip until we get to the point in time we are predicting for\n",
    "        if num_found >= window: break\n",
    "\n",
    "        if data['home_team'] == home:\n",
    "            new_game['home_possession'] += data['home_possession']\n",
    "            new_game['home_pass_acc'] += data['home_pass_acc']\n",
    "            new_game['home_sot'] += data['home_sot']\n",
    "            new_game['home_saves'] += data['home_saves']\n",
    "            new_game['home_fouls'] += data['home_fouls']\n",
    "            new_game['home_corners'] += data['home_corners']\n",
    "            new_game['home_crosses'] += data['home_crosses']\n",
    "            new_game['home_touches'] += data['home_touches']\n",
    "            new_game['home_tackles'] += data['home_tackles']\n",
    "            new_game['home_ints'] += data['home_ints']\n",
    "            new_game['home_aerials'] += data['home_aerials']\n",
    "            new_game['home_clearances'] += data['home_clearances']\n",
    "            new_game['home_offsides'] += data['home_offsides']\n",
    "            new_game['home_goal_kicks'] += data['home_goal_kicks']\n",
    "            new_game['home_throwins'] += data['home_throwins']\n",
    "            new_game['home_longballs'] += data['home_longballs']\n",
    "        elif data['away_team'] == home:\n",
    "            new_game['home_possession'] += data['away_possession']\n",
    "            new_game['home_pass_acc'] += data['away_pass_acc']\n",
    "            new_game['home_sot'] += data['away_sot']\n",
    "            new_game['home_saves'] += data['away_saves']\n",
    "            new_game['home_fouls'] += data['away_fouls']\n",
    "            new_game['home_corners'] += data['away_corners']\n",
    "            new_game['home_crosses'] += data['away_crosses']\n",
    "            new_game['home_touches'] += data['away_touches']\n",
    "            new_game['home_tackles'] += data['away_tackles']\n",
    "            new_game['home_ints'] += data['away_ints']\n",
    "            new_game['home_aerials'] += data['away_aerials']\n",
    "            new_game['home_clearances'] += data['away_clearances']\n",
    "            new_game['home_offsides'] += data['away_offsides']\n",
    "            new_game['home_goal_kicks'] += data['away_goal_kicks']\n",
    "            new_game['home_throwins'] += data['away_throwins']\n",
    "            new_game['home_longballs'] += data['away_longballs']\n",
    "        else: continue\n",
    "\n",
    "        num_found += 1\n",
    "\n",
    "    # Do the same for the Away Team\n",
    "    num_found = 0\n",
    "    for index, data in df.iterrows():\n",
    "        if int(data['date_value']) >= int(date_val): continue  # Skip until we get to the point in time we are predicting for\n",
    "        if num_found >= window: break\n",
    "\n",
    "        if data['home_team'] == away:\n",
    "            new_game['away_possession'] += data['home_possession']\n",
    "            new_game['away_pass_acc'] += data['home_pass_acc']\n",
    "            new_game['away_sot'] += data['home_sot']\n",
    "            new_game['away_saves'] += data['home_saves']\n",
    "            new_game['away_fouls'] += data['home_fouls']\n",
    "            new_game['away_corners'] += data['home_corners']\n",
    "            new_game['away_crosses'] += data['home_crosses']\n",
    "            new_game['away_touches'] += data['home_touches']\n",
    "            new_game['away_tackles'] += data['home_tackles']\n",
    "            new_game['away_ints'] += data['home_ints']\n",
    "            new_game['away_aerials'] += data['home_aerials']\n",
    "            new_game['away_clearances'] += data['home_clearances']\n",
    "            new_game['away_offsides'] += data['home_offsides']\n",
    "            new_game['away_goal_kicks'] += data['home_goal_kicks']\n",
    "            new_game['away_throwins'] += data['home_throwins']\n",
    "            new_game['away_longballs'] += data['home_longballs']\n",
    "        elif data['away_team'] == away:\n",
    "            new_game['away_possession'] += data['away_possession']\n",
    "            new_game['away_pass_acc'] += data['away_pass_acc']\n",
    "            new_game['away_sot'] += data['away_sot']\n",
    "            new_game['away_saves'] += data['away_saves']\n",
    "            new_game['away_fouls'] += data['away_fouls']\n",
    "            new_game['away_corners'] += data['away_corners']\n",
    "            new_game['away_crosses'] += data['away_crosses']\n",
    "            new_game['away_touches'] += data['away_touches']\n",
    "            new_game['away_tackles'] += data['away_tackles']\n",
    "            new_game['away_ints'] += data['away_ints']\n",
    "            new_game['away_aerials'] += data['away_aerials']\n",
    "            new_game['away_clearances'] += data['away_clearances']\n",
    "            new_game['away_offsides'] += data['away_offsides']\n",
    "            new_game['away_goal_kicks'] += data['away_goal_kicks']\n",
    "            new_game['away_throwins'] += data['away_throwins']\n",
    "            new_game['away_longballs'] += data['away_longballs']\n",
    "        else: continue\n",
    "\n",
    "        num_found += 1\n",
    "\n",
    "\n",
    "    # Average out new game according to window size\n",
    "    not_ints = [\"date_value\", \"home_team\", \"away_team\"]\n",
    "    for key, val in new_game.items():\n",
    "        if key in not_ints: continue\n",
    "        new_game[key] = val // window \n",
    "    \n",
    "    new_df = pd.DataFrame.from_records([new_game])\n",
    "    return new_df"
   ]
  },
  {
   "cell_type": "code",
   "execution_count": 88,
   "metadata": {},
   "outputs": [
    {
     "name": "stdout",
     "output_type": "stream",
     "text": [
      "[[ 55  62  84  83  40  28  72  55   9  10   6   7  21  22 713 763  20  11\n",
      "   10  10  14  16  18  13   2   2   7   6  16  20  43  45]]\n",
      "<class 'sklearn.linear_model.logistic.LogisticRegression'>\n",
      "[1]\n",
      "<class 'sklearn.ensemble.forest.RandomForestClassifier'>\n",
      "[1]\n"
     ]
    }
   ],
   "source": [
    "# Given home_team_name and away_team_name -> Return who will win\n",
    "# To do this our model must take in a row of these two teams 5 game averages in each stat and then predict\n",
    "\n",
    "home_team_name = \"Chelsea\"\n",
    "away_team_name = \"Arsenal\"\n",
    "matchID = 20190512\n",
    "\n",
    "# Make a array of these teams previous 5 games averages of all stats found in the column labels of df\n",
    "fict_game = create_game(df, home_team_name, away_team_name, matchID, window=5)\n",
    "fict_game_test = fict_game.drop(columns = ['date_value', 'home_team', 'away_team'])\n",
    "\n",
    "fict_game_test = fict_game_test.to_numpy()\n",
    "\n",
    "\n",
    "print(fict_game_test)\n",
    "\n",
    "for clf in clfs:\n",
    "    #clf.fit(X_train, y_train)\n",
    "    print(type(clf))\n",
    "    print(clf.predict(fict_game_test))\n",
    "    #print(\"score = \", clf.score(X_test, y_test), \"\\n\")"
   ]
  },
  {
   "cell_type": "code",
   "execution_count": null,
   "metadata": {},
   "outputs": [],
   "source": []
  }
 ],
 "metadata": {
  "kernelspec": {
   "display_name": "Python 3",
   "language": "python",
   "name": "python3"
  },
  "language_info": {
   "codemirror_mode": {
    "name": "ipython",
    "version": 3
   },
   "file_extension": ".py",
   "mimetype": "text/x-python",
   "name": "python",
   "nbconvert_exporter": "python",
   "pygments_lexer": "ipython3",
   "version": "3.7.4"
  }
 },
 "nbformat": 4,
 "nbformat_minor": 2
}
