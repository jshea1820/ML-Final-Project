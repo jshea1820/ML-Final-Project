{
 "cells": [
  {
   "cell_type": "markdown",
   "metadata": {},
   "source": [
    "# Imports"
   ]
  },
  {
   "cell_type": "code",
   "execution_count": 14,
   "metadata": {},
   "outputs": [],
   "source": [
    "import pandas as pd\n",
    "import seaborn as sns\n",
    "import numpy as np\n",
    "from statsmodels.stats.outliers_influence import variance_inflation_factor\n",
    "from sklearn.linear_model import LogisticRegression\n",
    "from sklearn.ensemble import RandomForestClassifier\n",
    "from helper_functions import *"
   ]
  },
  {
   "cell_type": "markdown",
   "metadata": {},
   "source": [
    "# (1) Load Data"
   ]
  },
  {
   "cell_type": "code",
   "execution_count": 15,
   "metadata": {},
   "outputs": [
    {
     "name": "stdout",
     "output_type": "stream",
     "text": [
      "32\n"
     ]
    },
    {
     "data": {
      "text/plain": [
       "['home_possession',\n",
       " 'away_possession',\n",
       " 'home_pass_acc',\n",
       " 'away_pass_acc',\n",
       " 'home_sot',\n",
       " 'away_sot',\n",
       " 'home_saves',\n",
       " 'away_saves',\n",
       " 'home_fouls',\n",
       " 'away_fouls',\n",
       " 'home_corners',\n",
       " 'away_corners',\n",
       " 'home_crosses',\n",
       " 'away_crosses',\n",
       " 'home_touches',\n",
       " 'away_touches',\n",
       " 'home_tackles',\n",
       " 'away_tackles',\n",
       " 'home_ints',\n",
       " 'away_ints',\n",
       " 'home_aerials',\n",
       " 'away_aerials',\n",
       " 'home_clearances',\n",
       " 'away_clearances',\n",
       " 'home_offsides',\n",
       " 'away_offsides',\n",
       " 'home_goal_kicks',\n",
       " 'away_goal_kicks',\n",
       " 'home_throwins',\n",
       " 'away_throwins',\n",
       " 'home_longballs',\n",
       " 'away_longballs']"
      ]
     },
     "execution_count": 15,
     "metadata": {},
     "output_type": "execute_result"
    }
   ],
   "source": [
    "# Load in full Data CSV\n",
    "filename = './matchup_data_all.csv'\n",
    "df = pd.read_csv(filename)\n",
    "\n",
    "# Use helper function to create new win column that describes if home_team won, loss or draw\n",
    "# This will be our target column\n",
    "df['target'] = df[['home_score', 'away_score']].apply(add_win_column, axis = 1)\n",
    "df.sort_values('date_value', inplace = True, ascending=False)\n",
    "df = df.drop(columns = ['url', 'date', 'home_record', 'away_record'])\n",
    "df.head()\n",
    "\n",
    "\n",
    "# Make dataframe that is just the features inorder for feature variance analysis\n",
    "df_feat = df.drop(columns = ['target', 'date_value', 'home_team', 'away_team', 'home_score', 'away_score', 'week'])\n",
    "print(len(df_feat.columns))\n",
    "list(df_feat)\n",
    "\n"
   ]
  },
  {
   "cell_type": "markdown",
   "metadata": {},
   "source": [
    "# Feature Variance Analysis"
   ]
  },
  {
   "cell_type": "code",
   "execution_count": 16,
   "metadata": {},
   "outputs": [
    {
     "data": {
      "text/plain": [
       "[('home_possession', 680.701498080627),\n",
       " ('away_possession', 600.6859549597091),\n",
       " ('home_pass_acc', 996.1016985703549),\n",
       " ('away_pass_acc', 888.3849048955051),\n",
       " ('home_sot', 7.270767218536324),\n",
       " ('away_sot', 6.172409065556261),\n",
       " ('home_saves', 6.287660708873903),\n",
       " ('away_saves', 7.090955484260247),\n",
       " ('home_fouls', 13.111950083367153),\n",
       " ('away_fouls', 12.455623805545246),\n",
       " ('home_corners', 8.729434785612003),\n",
       " ('away_corners', 7.439265382377548),\n",
       " ('home_crosses', 16.31750629097872),\n",
       " ('away_crosses', 13.822444975990956),\n",
       " ('home_touches', 550.9832120077979),\n",
       " ('away_touches', 542.4138177235843),\n",
       " ('home_tackles', 15.097304097777911),\n",
       " ('away_tackles', 14.525367070179678),\n",
       " ('home_ints', 8.091690249647515),\n",
       " ('away_ints', 8.415804689950393),\n",
       " ('home_aerials', 10.666689852224783),\n",
       " ('away_aerials', 10.51729974145111),\n",
       " ('home_clearances', 12.55513971486953),\n",
       " ('away_clearances', 15.420994119467558),\n",
       " ('home_offsides', 2.7662337903569836),\n",
       " ('away_offsides', 2.514073575703357),\n",
       " ('home_goal_kicks', 8.554976328247687),\n",
       " ('away_goal_kicks', 9.332318159754122),\n",
       " ('home_throwins', 20.280993344353465),\n",
       " ('away_throwins', 18.424233236381774),\n",
       " ('home_longballs', 38.40513118573647),\n",
       " ('away_longballs', 42.16143791964047)]"
      ]
     },
     "execution_count": 16,
     "metadata": {},
     "output_type": "execute_result"
    }
   ],
   "source": [
    "vifs = []\n",
    "for i, feature in enumerate(list(df_feat)):\n",
    "    vif_tup = (feature, variance_inflation_factor(df_feat.values, i))\n",
    "    vifs.append( vif_tup )\n",
    "vifs\n"
   ]
  },
  {
   "cell_type": "markdown",
   "metadata": {},
   "source": [
    "# Model Training and Testing on Already Played Games"
   ]
  },
  {
   "cell_type": "code",
   "execution_count": 17,
   "metadata": {},
   "outputs": [
    {
     "name": "stdout",
     "output_type": "stream",
     "text": [
      "<class 'numpy.ndarray'>\n"
     ]
    }
   ],
   "source": [
    "clfs = [LogisticRegression(), RandomForestClassifier()]\n",
    "X = df_feat.values\n",
    "\n",
    "y = df['target'].values\n",
    "\n",
    "X_train, X_test, y_train, y_test = train_test_split(X, y, test_size = .2, random_state = 42)\n",
    "print(type(y_train))"
   ]
  },
  {
   "cell_type": "code",
   "execution_count": 18,
   "metadata": {},
   "outputs": [
    {
     "name": "stdout",
     "output_type": "stream",
     "text": [
      "[[65 35 83 ... 26 59 79]\n",
      " [55 45 82 ... 15 46 74]\n",
      " [48 52 78 ... 27 61 70]\n",
      " ...\n",
      " [29 71 55 ... 20 79 46]\n",
      " [58 42 76 ... 34 70 61]\n",
      " [70 30 87 ... 10 61 83]]\n",
      "<class 'sklearn.linear_model.logistic.LogisticRegression'>\n",
      "score =  0.75 \n",
      "\n",
      "<class 'sklearn.ensemble.forest.RandomForestClassifier'>\n",
      "score =  0.7280701754385965 \n",
      "\n"
     ]
    },
    {
     "name": "stderr",
     "output_type": "stream",
     "text": [
      "/anaconda3/lib/python3.6/site-packages/sklearn/linear_model/logistic.py:433: FutureWarning: Default solver will be changed to 'lbfgs' in 0.22. Specify a solver to silence this warning.\n",
      "  FutureWarning)\n",
      "/anaconda3/lib/python3.6/site-packages/sklearn/linear_model/logistic.py:460: FutureWarning: Default multi_class will be changed to 'auto' in 0.22. Specify the multi_class option to silence this warning.\n",
      "  \"this warning.\", FutureWarning)\n",
      "/anaconda3/lib/python3.6/site-packages/sklearn/ensemble/forest.py:246: FutureWarning: The default value of n_estimators will change from 10 in version 0.20 to 100 in 0.22.\n",
      "  \"10 in version 0.20 to 100 in 0.22.\", FutureWarning)\n"
     ]
    }
   ],
   "source": [
    "print(X_test)\n",
    "for clf in clfs:\n",
    "    clf.fit(X_train, y_train)\n",
    "    print(type(clf))\n",
    "    print(\"score = \", clf.score(X_test, y_test), \"\\n\")"
   ]
  },
  {
   "cell_type": "code",
   "execution_count": null,
   "metadata": {},
   "outputs": [],
   "source": []
  },
  {
   "cell_type": "markdown",
   "metadata": {},
   "source": [
    "# Modelling on Games Yet to be Played (ie without stats)"
   ]
  },
  {
   "cell_type": "code",
   "execution_count": 19,
   "metadata": {},
   "outputs": [],
   "source": [
    "def create_game(df, home, away, date_val, target, window):\n",
    "    # Return a df of averaged stats from previous 5 games that represents a predicted game\n",
    "    \n",
    "    # I added the target argument, which is carried to the output. Makes it easier when transforming the whole dataset\n",
    "    new_game = {'date_value': date_val, 'home_team': home, 'away_team': away, 'target': target, 'home_possession': 0, 'away_possession': 0, 'home_pass_acc': 0, 'away_pass_acc': 0, 'home_sot': 0, 'away_sot': 0, 'home_saves': 0,\n",
    "                 'away_saves': 0, 'home_fouls': 0, 'away_fouls': 0, 'home_corners': 0, 'away_corners': 0, 'home_crosses': 0, 'away_crosses': 0, 'home_touches': 0, 'away_touches': 0, 'home_tackles': 0,\n",
    "                  'away_tackles': 0, 'home_ints': 0, 'away_ints': 0, 'home_aerials': 0, 'away_aerials': 0, 'home_clearances': 0, 'away_clearances': 0, 'home_offsides': 0, 'away_offsides': 0, 'home_goal_kicks': 0, 'away_goal_kicks': 0,\n",
    "                  'home_throwins': 0, 'away_throwins': 0, 'home_longballs': 0, 'away_longballs': 0}\n",
    "\n",
    "    # I added in a few more checks to the \"week\" feature and how it affects \"window\"\n",
    "    \n",
    "    # Gets the week the game took place in\n",
    "    week = df[df[\"date_value\"] == date_val][df[\"home_team\"] == home].iloc[0][\"week\"]\n",
    "    \n",
    "    if week == 1:\n",
    "        # If it's a first-week game, we have no previous game data\n",
    "        # date_value=0 will indicate that the game is invalid\n",
    "        new_game[\"date_value\"] = 0\n",
    "        new_df = pd.DataFrame.from_records([new_game])\n",
    "        return new_df\n",
    "    \n",
    "    # Adjusts window if there aren't enough games\n",
    "    if week < window + 1:\n",
    "        window = week - 1\n",
    "    \n",
    "    \n",
    "    # Extract and sum up previous 5 games from Home team\n",
    "    num_found = 0\n",
    "    for index, data in df.iterrows():\n",
    "        if int(data['date_value']) >= int(date_val): continue  # Skip until we get to the point in time we are predicting for\n",
    "        if num_found >= window: break\n",
    "            \n",
    "        if data['home_team'] == home:\n",
    "            new_game['home_possession'] += data['home_possession']\n",
    "            new_game['home_pass_acc'] += data['home_pass_acc']\n",
    "            new_game['home_sot'] += data['home_sot']\n",
    "            new_game['home_saves'] += data['home_saves']\n",
    "            new_game['home_fouls'] += data['home_fouls']\n",
    "            new_game['home_corners'] += data['home_corners']\n",
    "            new_game['home_crosses'] += data['home_crosses']\n",
    "            new_game['home_touches'] += data['home_touches']\n",
    "            new_game['home_tackles'] += data['home_tackles']\n",
    "            new_game['home_ints'] += data['home_ints']\n",
    "            new_game['home_aerials'] += data['home_aerials']\n",
    "            new_game['home_clearances'] += data['home_clearances']\n",
    "            new_game['home_offsides'] += data['home_offsides']\n",
    "            new_game['home_goal_kicks'] += data['home_goal_kicks']\n",
    "            new_game['home_throwins'] += data['home_throwins']\n",
    "            new_game['home_longballs'] += data['home_longballs']\n",
    "        elif data['away_team'] == home:\n",
    "            new_game['home_possession'] += data['away_possession']\n",
    "            new_game['home_pass_acc'] += data['away_pass_acc']\n",
    "            new_game['home_sot'] += data['away_sot']\n",
    "            new_game['home_saves'] += data['away_saves']\n",
    "            new_game['home_fouls'] += data['away_fouls']\n",
    "            new_game['home_corners'] += data['away_corners']\n",
    "            new_game['home_crosses'] += data['away_crosses']\n",
    "            new_game['home_touches'] += data['away_touches']\n",
    "            new_game['home_tackles'] += data['away_tackles']\n",
    "            new_game['home_ints'] += data['away_ints']\n",
    "            new_game['home_aerials'] += data['away_aerials']\n",
    "            new_game['home_clearances'] += data['away_clearances']\n",
    "            new_game['home_offsides'] += data['away_offsides']\n",
    "            new_game['home_goal_kicks'] += data['away_goal_kicks']\n",
    "            new_game['home_throwins'] += data['away_throwins']\n",
    "            new_game['home_longballs'] += data['away_longballs']\n",
    "        else: continue\n",
    "\n",
    "        num_found += 1\n",
    "\n",
    "    # Do the same for the Away Team\n",
    "    num_found = 0\n",
    "    for index, data in df.iterrows():\n",
    "        if int(data['date_value']) >= int(date_val): continue  # Skip until we get to the point in time we are predicting for\n",
    "        if num_found >= window: break\n",
    "            \n",
    "        if data['home_team'] == away:\n",
    "            new_game['away_possession'] += data['home_possession']\n",
    "            new_game['away_pass_acc'] += data['home_pass_acc']\n",
    "            new_game['away_sot'] += data['home_sot']\n",
    "            new_game['away_saves'] += data['home_saves']\n",
    "            new_game['away_fouls'] += data['home_fouls']\n",
    "            new_game['away_corners'] += data['home_corners']\n",
    "            new_game['away_crosses'] += data['home_crosses']\n",
    "            new_game['away_touches'] += data['home_touches']\n",
    "            new_game['away_tackles'] += data['home_tackles']\n",
    "            new_game['away_ints'] += data['home_ints']\n",
    "            new_game['away_aerials'] += data['home_aerials']\n",
    "            new_game['away_clearances'] += data['home_clearances']\n",
    "            new_game['away_offsides'] += data['home_offsides']\n",
    "            new_game['away_goal_kicks'] += data['home_goal_kicks']\n",
    "            new_game['away_throwins'] += data['home_throwins']\n",
    "            new_game['away_longballs'] += data['home_longballs']\n",
    "        elif data['away_team'] == away:\n",
    "            new_game['away_possession'] += data['away_possession']\n",
    "            new_game['away_pass_acc'] += data['away_pass_acc']\n",
    "            new_game['away_sot'] += data['away_sot']\n",
    "            new_game['away_saves'] += data['away_saves']\n",
    "            new_game['away_fouls'] += data['away_fouls']\n",
    "            new_game['away_corners'] += data['away_corners']\n",
    "            new_game['away_crosses'] += data['away_crosses']\n",
    "            new_game['away_touches'] += data['away_touches']\n",
    "            new_game['away_tackles'] += data['away_tackles']\n",
    "            new_game['away_ints'] += data['away_ints']\n",
    "            new_game['away_aerials'] += data['away_aerials']\n",
    "            new_game['away_clearances'] += data['away_clearances']\n",
    "            new_game['away_offsides'] += data['away_offsides']\n",
    "            new_game['away_goal_kicks'] += data['away_goal_kicks']\n",
    "            new_game['away_throwins'] += data['away_throwins']\n",
    "            new_game['away_longballs'] += data['away_longballs']\n",
    "        else: continue\n",
    "\n",
    "        num_found += 1\n",
    "\n",
    "    # Average out new game according to window size\n",
    "    not_ints = [\"date_value\", \"home_team\", \"away_team\", \"target\"]\n",
    "    for key, val in new_game.items():\n",
    "        if key in not_ints: continue\n",
    "        new_game[key] = val // window \n",
    "    \n",
    "    new_df = pd.DataFrame.from_records([new_game])\n",
    "    return new_df"
   ]
  },
  {
   "cell_type": "code",
   "execution_count": 20,
   "metadata": {},
   "outputs": [],
   "source": [
    "# We have to make our own train_test_split function inorder to get test sets that still have the team names and date_value in them\n",
    "# This way we can do our 5 game average and then predict\n",
    "\n",
    "# I got rid of the X_id argument, just splits on X and y\n",
    "def split_data(X, y):\n",
    "    arr_rand = np.random.rand(X.shape[0])\n",
    "    split = arr_rand < np.percentile(arr_rand, 80) # 80/20 split\n",
    "    \n",
    "    X_train = X[split]\n",
    "    y_train = y[split]\n",
    "    X_test =  X[~split]\n",
    "    y_test = y[~split]\n",
    "\n",
    "    return X_train, X_test, y_train, y_test"
   ]
  },
  {
   "cell_type": "code",
   "execution_count": 21,
   "metadata": {
    "scrolled": true
   },
   "outputs": [
    {
     "name": "stderr",
     "output_type": "stream",
     "text": [
      "/anaconda3/lib/python3.6/site-packages/ipykernel_launcher.py:13: UserWarning: Boolean Series key will be reindexed to match DataFrame index.\n",
      "  del sys.path[0]\n"
     ]
    },
    {
     "name": "stdout",
     "output_type": "stream",
     "text": [
      "20/1140 games transformed\n",
      "40/1140 games transformed\n",
      "60/1140 games transformed\n",
      "80/1140 games transformed\n",
      "100/1140 games transformed\n",
      "120/1140 games transformed\n",
      "140/1140 games transformed\n",
      "160/1140 games transformed\n",
      "180/1140 games transformed\n",
      "200/1140 games transformed\n",
      "220/1140 games transformed\n",
      "240/1140 games transformed\n",
      "260/1140 games transformed\n",
      "280/1140 games transformed\n",
      "300/1140 games transformed\n",
      "320/1140 games transformed\n",
      "340/1140 games transformed\n",
      "360/1140 games transformed\n",
      "400/1140 games transformed\n",
      "420/1140 games transformed\n",
      "440/1140 games transformed\n",
      "460/1140 games transformed\n",
      "480/1140 games transformed\n",
      "500/1140 games transformed\n",
      "520/1140 games transformed\n",
      "540/1140 games transformed\n",
      "560/1140 games transformed\n",
      "580/1140 games transformed\n",
      "600/1140 games transformed\n",
      "620/1140 games transformed\n",
      "640/1140 games transformed\n",
      "660/1140 games transformed\n",
      "680/1140 games transformed\n",
      "700/1140 games transformed\n",
      "720/1140 games transformed\n",
      "740/1140 games transformed\n",
      "780/1140 games transformed\n",
      "800/1140 games transformed\n",
      "820/1140 games transformed\n",
      "840/1140 games transformed\n",
      "860/1140 games transformed\n",
      "880/1140 games transformed\n",
      "900/1140 games transformed\n",
      "920/1140 games transformed\n",
      "940/1140 games transformed\n",
      "960/1140 games transformed\n",
      "980/1140 games transformed\n",
      "1000/1140 games transformed\n",
      "1020/1140 games transformed\n",
      "1040/1140 games transformed\n",
      "1060/1140 games transformed\n",
      "1080/1140 games transformed\n",
      "1100/1140 games transformed\n",
      "1120/1140 games transformed\n"
     ]
    }
   ],
   "source": [
    "\n",
    "# This will be the dataframe containing all the transformed data\n",
    "transformed_df = pd.DataFrame()\n",
    "\n",
    "# Loop through all games in order from most to least recent\n",
    "count = 0\n",
    "for _, row in df.iterrows():\n",
    "    home_team_name = row[\"home_team\"]\n",
    "    away_team_name = row[\"away_team\"]\n",
    "    matchID = row[\"date_value\"]\n",
    "    target = row[\"target\"]\n",
    "\n",
    "    # Get the average stats for each team's last 5 games and organize it into df\n",
    "    fict_game = create_game(df, home_team_name, away_team_name, matchID, target, window=5)\n",
    "    \n",
    "    # If it's a first week game, dont include it cause we have no valid past data\n",
    "    if fict_game[\"date_value\"][0] == 0:\n",
    "        count += 1\n",
    "        continue\n",
    "    \n",
    "    # Add this df to accumulated df\n",
    "    transformed_df = transformed_df.append(fict_game)\n",
    "\n",
    "    # Progress tracking. This loop takes a while\n",
    "    count += 1\n",
    "    if count % 20 == 0:\n",
    "        print(\"{}/{} games transformed\".format(count, len(df)))"
   ]
  },
  {
   "cell_type": "code",
   "execution_count": 22,
   "metadata": {},
   "outputs": [],
   "source": [
    "# X is all the predictive stats\n",
    "X = transformed_df.drop(columns = [\"date_value\", \"home_team\", \"away_team\", \"target\"])\n",
    "# y is the outcome we want to predict\n",
    "y = transformed_df[\"target\"]\n",
    "\n",
    "# Splits training and testing\n",
    "X_train, X_test, y_train, y_test = split_data(X,y)\n",
    "\n"
   ]
  },
  {
   "cell_type": "code",
   "execution_count": 23,
   "metadata": {},
   "outputs": [
    {
     "name": "stdout",
     "output_type": "stream",
     "text": [
      "Accuracy: 0.527027027027027\n"
     ]
    }
   ],
   "source": [
    "from sklearn.metrics import accuracy_score\n",
    "\n",
    "# Trains and tests a model\n",
    "clf = RandomForestClassifier(n_estimators=100, max_depth=8)\n",
    "\n",
    "# Trains model\n",
    "clf.fit(X_train, y_train)\n",
    "\n",
    "# Runs model on X_test\n",
    "predictions = clf.predict(X_test)\n",
    "\n",
    "# Compares predictions to actuals\n",
    "score = accuracy_score(y_test, predictions)\n",
    "print(\"Accuracy: {}\".format(score))\n",
    "    \n",
    "    \n",
    "    "
   ]
  },
  {
   "cell_type": "code",
   "execution_count": null,
   "metadata": {},
   "outputs": [],
   "source": []
  }
 ],
 "metadata": {
  "kernelspec": {
   "display_name": "Python 3",
   "language": "python",
   "name": "python3"
  },
  "language_info": {
   "codemirror_mode": {
    "name": "ipython",
    "version": 3
   },
   "file_extension": ".py",
   "mimetype": "text/x-python",
   "name": "python",
   "nbconvert_exporter": "python",
   "pygments_lexer": "ipython3",
   "version": "3.6.6"
  }
 },
 "nbformat": 4,
 "nbformat_minor": 2
}
